{
 "cells": [
  {
   "cell_type": "code",
   "execution_count": 1,
   "id": "ff4416bb-1210-4353-a227-251bf468aa70",
   "metadata": {},
   "outputs": [
    {
     "data": {
      "application/vnd.jupyter.widget-view+json": {
       "model_id": "9c5772ec9bac4219ac8de80a82ea6a79",
       "version_major": 2,
       "version_minor": 0
      },
      "text/plain": []
     },
     "metadata": {},
     "output_type": "display_data"
    }
   ],
   "source": [
    "# Import necessary libraries\n",
    "import MDAnalysis as mda\n",
    "import pytim\n",
    "from pytim.datafiles import WATER_GRO\n",
    "import nglview as nv\n",
    "import numpy as np\n",
    "from pytim.observables  import TopologicalOrderParameter,WaterHydrogenBondingAdjacencyMatrix"
   ]
  },
  {
   "cell_type": "code",
   "execution_count": 2,
   "id": "5c9998d5-69a6-4c1b-999d-0ed9bc225c23",
   "metadata": {},
   "outputs": [],
   "source": [
    "# load the universe, as usual\n",
    "u = mda.Universe(WATER_GRO)\n",
    "ox = u.select_atoms('type O')\n",
    "# the surface analysis is not required to use the topological order parameter, but in this example we look at a surface molecule\n",
    "inter = pytim.ITIM(u, group=ox, cluster_cut=3.5, molecular=True, centered=True) "
   ]
  },
  {
   "cell_type": "code",
   "execution_count": 3,
   "id": "5f0d4006-28d6-4237-bcc9-7ee400f59cca",
   "metadata": {},
   "outputs": [
    {
     "name": "stdout",
     "output_type": "stream",
     "text": [
      "[4.1454 3.2736 3.9129 3.5797]\n"
     ]
    }
   ],
   "source": [
    "# First, we need to define the criterion\n",
    "# used to define the bonding:\n",
    "HB = WaterHydrogenBondingAdjacencyMatrix()\n",
    "\n",
    "# Then we use it to build the topological order parameter\n",
    "# specifying that we want the 4th topological neighbors\n",
    "psi = TopologicalOrderParameter(HB,4)\n",
    "\n",
    "# Let's see the value of psi for the first 4 molecules \n",
    "# (we need to pass the oxygen atoms to HB through psi.compute) \n",
    "with np.printoptions(precision=4):\n",
    "    print(psi.compute(ox)[:4])"
   ]
  },
  {
   "cell_type": "code",
   "execution_count": 4,
   "id": "29bb4847-f76b-4c4b-ae38-5173622e8ad1",
   "metadata": {},
   "outputs": [
    {
     "name": "stdout",
     "output_type": "stream",
     "text": [
      "Help on method path in module pytim.observables.topological_order_parameter:\n",
      "\n",
      "path(start, end) method of pytim.observables.topological_order_parameter.TopologicalOrderParameter instance\n",
      "    Given the start and end of a path, returns the\n",
      "    molecules within the connected path, if it exists.\n",
      "    Accepts indices (zero-based) of the input group\n",
      "    used to compute the observable, or two Atom objects,\n",
      "    in which case it identifies the molecules to which they\n",
      "    belong and returns an AtomGroup.\n",
      "\n",
      "    :param  int|Atom  :  start, the first atom in the chain\n",
      "    :param  int|Atom  :  end, the last atom in the chain\n",
      "\n"
     ]
    }
   ],
   "source": [
    "# we can select, analyse and display water molecules that are connected using psi.path()\n",
    "help(psi.path)"
   ]
  },
  {
   "cell_type": "code",
   "execution_count": 5,
   "id": "b3195f37-8c0a-4934-9202-86e6c565d081",
   "metadata": {},
   "outputs": [
    {
     "data": {
      "text/plain": [
       "<Atom 844: OW of type O of resname SOL, resid 282 and segid SYSTEM and altLoc  >"
      ]
     },
     "execution_count": 5,
     "metadata": {},
     "output_type": "execute_result"
    }
   ],
   "source": [
    "# let's select the oxygen atom of a random molecule\n",
    "at1 = inter.atoms.residues[42].atoms[0]\n",
    "at1"
   ]
  },
  {
   "cell_type": "code",
   "execution_count": 6,
   "id": "a5b91031-9944-4b31-9b04-965ac353e6b0",
   "metadata": {},
   "outputs": [
    {
     "data": {
      "text/plain": [
       "<Atom 7564: OW of type O of resname SOL, resid 2522 and segid SYSTEM and altLoc  >"
      ]
     },
     "execution_count": 6,
     "metadata": {},
     "output_type": "execute_result"
    }
   ],
   "source": [
    "# the 4th topological neighbor can be accessed using psi.neighbors, which \n",
    "# is indexed using the molecular indices\n",
    "at4 = u.atoms[psi.neighbors[at1.resindex]]\n",
    "at4"
   ]
  },
  {
   "cell_type": "code",
   "execution_count": 7,
   "id": "c99b1ff0-ea8e-4431-ae60-0b75353d01b2",
   "metadata": {},
   "outputs": [
    {
     "data": {
      "text/plain": [
       "<AtomGroup with 5 atoms>"
      ]
     },
     "execution_count": 7,
     "metadata": {},
     "output_type": "execute_result"
    }
   ],
   "source": [
    "# the set of atoms linking the first atom and that at the end of the 4th bond is:\n",
    "path = psi.path(at1,at4)\n",
    "path"
   ]
  },
  {
   "cell_type": "code",
   "execution_count": 8,
   "id": "53589f43-17be-451c-99cd-1a6951e1e63b",
   "metadata": {},
   "outputs": [
    {
     "data": {
      "text/plain": [
       "array([7563, 4461,  213, 5085,  843])"
      ]
     },
     "execution_count": 8,
     "metadata": {},
     "output_type": "execute_result"
    }
   ],
   "source": [
    "path.indices"
   ]
  },
  {
   "cell_type": "code",
   "execution_count": 9,
   "id": "4a542ec9-c7da-4df7-8474-9e0bd171e6a0",
   "metadata": {},
   "outputs": [
    {
     "data": {
      "application/vnd.jupyter.widget-view+json": {
       "model_id": "993abe54033147e99684b356e5729b3b",
       "version_major": 2,
       "version_minor": 0
      },
      "text/plain": [
       "NGLWidget()"
      ]
     },
     "metadata": {},
     "output_type": "display_data"
    }
   ],
   "source": [
    "# We can now visualize the path:\n",
    "\n",
    "w = nv.show_mdanalysis(u)\n",
    "w.camera = 'orthographic'\n",
    "w.center()\n",
    "w.add_unitcell()\n",
    "# all surface atoms\n",
    "w.add_spacefill(selection=inter.atoms.indices, radiusScale=0.75,opacity=0.5)\n",
    "w.add_spacefill(selection=path.indices,radiusScale=0.75)\n",
    "\n",
    "# create a list of pairs of connected atoms\n",
    "pairs = list(zip(path[:-1], path[1:]))    \n",
    "for p in pairs:\n",
    "    # display links \n",
    "    w.shape.add_cylinder(p[0].position, p[1].position, [0.0, 0.0, 0.0], .75)\n",
    "\n",
    "w.display()"
   ]
  }
 ],
 "metadata": {
  "kernelspec": {
   "display_name": "Python3.12.7",
   "language": "python",
   "name": "python3"
  },
  "language_info": {
   "codemirror_mode": {
    "name": "ipython",
    "version": 3
   },
   "file_extension": ".py",
   "mimetype": "text/x-python",
   "name": "python",
   "nbconvert_exporter": "python",
   "pygments_lexer": "ipython3",
   "version": "3.12.7"
  }
 },
 "nbformat": 4,
 "nbformat_minor": 5
}
