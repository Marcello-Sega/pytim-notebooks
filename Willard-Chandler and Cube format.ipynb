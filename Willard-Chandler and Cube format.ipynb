{
 "cells": [
  {
   "cell_type": "code",
   "execution_count": 1,
   "metadata": {
    "deletable": true,
    "editable": true
   },
   "outputs": [
    {
     "data": {
      "application/vnd.jupyter.widget-view+json": {
       "model_id": "12ab7a71c63044a28cd7a2e870fb6342",
       "version_major": 2,
       "version_minor": 0
      },
      "text/plain": []
     },
     "metadata": {},
     "output_type": "display_data"
    },
    {
     "name": "stderr",
     "output_type": "stream",
     "text": [
      "/Users/marcello/Library/Python/3.12/lib/python/site-packages/MDAnalysis/topology/PDBParser.py:350: UserWarning: Element information is missing, elements attribute will not be populated. If needed these can be guessed using universe.guess_TopologyAttrs(context='default', to_guess=['elements']).\n",
      "  warnings.warn(\"Element information is missing, elements attribute \"\n"
     ]
    }
   ],
   "source": [
    "import MDAnalysis as mda\n",
    "import pytim\n",
    "from pytim.datafiles import MICELLE_PDB\n",
    "import nglview\n",
    "\n",
    "u = mda.Universe(MICELLE_PDB)\n",
    "g = u.select_atoms('resname DPC')\n"
   ]
  },
  {
   "cell_type": "code",
   "execution_count": 2,
   "metadata": {
    "collapsed": false,
    "deletable": true,
    "editable": true,
    "jupyter": {
     "outputs_hidden": false
    }
   },
   "outputs": [],
   "source": [
    "# we compute the interface and save it to a .cube file, to read it afterwards with nglview\n",
    "interface = pytim.WillardChandler(u, group=g, mesh=1.5, alpha=3.0,centered=True)\n",
    "interface.writecube('data.cube',order='zyx')"
   ]
  },
  {
   "cell_type": "code",
   "execution_count": 3,
   "metadata": {
    "deletable": true,
    "editable": true
   },
   "outputs": [],
   "source": [
    "view = nglview.show_mdanalysis(u.atoms) # the atoms, this will be component_0 in nglview\n",
    "view.add_component('data.cube') # the density data, this will be component_1 in nglview\n",
    " \n",
    "view.clear() # looks like this is needed in order for view._display_image() to work correctly \n",
    "# let's center the view on our atoms, and draw them as spheres  \n",
    "view.component_0.center()\n",
    "view.component_0.add_spacefill(selection='DPC')\n",
    "\n",
    "# let's add a transparent, red representation for the isodensity surface\n",
    "view.component_1.add_surface(color='red',isolevelType=\"value\",isolevel=0.4,opacity=0.4) \n",
    "\n",
    "# add a nice simulation box\n",
    "view.add_unitcell() "
   ]
  },
  {
   "cell_type": "code",
   "execution_count": 4,
   "metadata": {
    "collapsed": false,
    "deletable": true,
    "editable": true,
    "jupyter": {
     "outputs_hidden": false
    }
   },
   "outputs": [
    {
     "data": {
      "application/vnd.jupyter.widget-view+json": {
       "model_id": "4195e062268c464780eefb8b8681939a",
       "version_major": 2,
       "version_minor": 0
      },
      "text/plain": [
       "NGLWidget()"
      ]
     },
     "metadata": {},
     "output_type": "display_data"
    }
   ],
   "source": [
    "view.display()"
   ]
  },
  {
   "cell_type": "code",
   "execution_count": null,
   "metadata": {},
   "outputs": [],
   "source": []
  }
 ],
 "metadata": {
  "kernelspec": {
   "display_name": "Python3.12.7",
   "language": "python",
   "name": "python3"
  },
  "language_info": {
   "codemirror_mode": {
    "name": "ipython",
    "version": 3
   },
   "file_extension": ".py",
   "mimetype": "text/x-python",
   "name": "python",
   "nbconvert_exporter": "python",
   "pygments_lexer": "ipython3",
   "version": "3.12.7"
  }
 },
 "nbformat": 4,
 "nbformat_minor": 4
}
